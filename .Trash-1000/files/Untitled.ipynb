{
 "cells": [
  {
   "cell_type": "markdown",
   "id": "8b72493c-8152-404b-94ad-5994aadd75c0",
   "metadata": {},
   "source": [
    "# SEABORN Data analysis as a separate notebook"
   ]
  },
  {
   "cell_type": "markdown",
   "id": "edcb36d2-fd91-4dbe-a1cb-d8c2a3aed0b6",
   "metadata": {},
   "source": [
    "## Attempting to isolate the issues with the other notebook where the entire code stops working and plot features are not clearly defined or labeled. "
   ]
  },
  {
   "cell_type": "markdown",
   "id": "aa45f564-e18c-413e-9d4d-379e342973da",
   "metadata": {},
   "source": [
    "## Library Imports"
   ]
  },
  {
   "cell_type": "code",
   "execution_count": null,
   "id": "79fadde2-e5f2-4585-b88a-18059f7f5b85",
   "metadata": {
    "tags": []
   },
   "outputs": [],
   "source": [
    "import urllib"
   ]
  },
  {
   "cell_type": "code",
   "execution_count": null,
   "id": "eeeeeb5c-6954-47af-a629-34279061cb80",
   "metadata": {
    "tags": []
   },
   "outputs": [],
   "source": [
    "import os"
   ]
  },
  {
   "cell_type": "code",
   "execution_count": null,
   "id": "35dd6e95-bedf-4602-9175-69d0d692608b",
   "metadata": {
    "tags": []
   },
   "outputs": [],
   "source": [
    "import matplotlib.pyplot as plt"
   ]
  },
  {
   "cell_type": "code",
   "execution_count": null,
   "id": "9b3b9d95-c3df-4dae-bbd9-2d93920b393d",
   "metadata": {
    "tags": []
   },
   "outputs": [],
   "source": [
    "import pandas"
   ]
  },
  {
   "cell_type": "markdown",
   "id": "001b1dd8-70dd-4f69-b8c6-33f733e78a34",
   "metadata": {},
   "source": [
    "## Load Seaborn matrix data"
   ]
  },
  {
   "cell_type": "code",
   "execution_count": null,
   "id": "8720ba3b-3614-49f8-8c1d-1cffee733e25",
   "metadata": {
    "tags": []
   },
   "outputs": [],
   "source": [
    "if not os.path.exists('wages.txt'):\n",
    "    #Pull file if not already present on drive\n",
    "    urllib.request.urlretrieve('http://lib.stat.cmu.edu/datasets/CPS_85_Wages','wages.txt')"
   ]
  },
  {
   "cell_type": "code",
   "execution_count": null,
   "id": "b30cbe2c-e9a5-4c40-b17e-fa7789ccb732",
   "metadata": {},
   "outputs": [],
   "source": [
    "# Assign Column Names\n",
    "names = [     \n",
    "    'EDUCATION: Number of years of education',\n",
    "    'SOUTH: 1=Person lives in South, 0=Person lives elsewhere',\n",
    "    'SEX: 1=Female, 0=Male',\n",
    "    'EXPERIENCE: Number of years of work experience',\n",
    "    'UNION: 1=Union member, 0=Not union member',\n",
    "    'WAGE: Wage (dollars per hour)',\n",
    "    'AGE: years',\n",
    "    'RACE: 1=Other, 2=Hispanic, 3=White',\n",
    "    'OCCUPATION: 1=Management, 2=Sales, 3=Clerical, 4=Service, 5=Professional, 6=Other',\n",
    "    'SECTOR: 0=Other, 1=Manufacturing, 2=Construction',\n",
    "    'MARR: 0=Unmarried,  1=Married',\n",
    "]"
   ]
  },
  {
   "cell_type": "code",
   "execution_count": null,
   "id": "32761482-cbbe-46ac-b19b-bf19699e54bc",
   "metadata": {
    "tags": []
   },
   "outputs": [],
   "source": [
    "short_names = [n.split(':')[0] for n in names]"
   ]
  },
  {
   "cell_type": "code",
   "execution_count": null,
   "id": "5e229f93-2728-4f44-bb35-1f969495345d",
   "metadata": {
    "tags": []
   },
   "outputs": [],
   "source": [
    "data = pandas.read_csv('wages.txt', skiprows=27, skipfooter=6, engine='python', sep=None, header=None)"
   ]
  },
  {
   "cell_type": "code",
   "execution_count": null,
   "id": "3aa17fac-c517-4f09-bd2a-cb27e41d869e",
   "metadata": {
    "tags": []
   },
   "outputs": [],
   "source": [
    "data.columns = short_names"
   ]
  },
  {
   "cell_type": "code",
   "execution_count": null,
   "id": "46049a7d-27d2-4335-91e3-f35588125bbb",
   "metadata": {
    "tags": []
   },
   "outputs": [],
   "source": [
    "data"
   ]
  },
  {
   "cell_type": "code",
   "execution_count": null,
   "id": "c6e5ac74-99f8-4ceb-8e87-c027c402b1e7",
   "metadata": {
    "tags": []
   },
   "outputs": [],
   "source": [
    "# Transform Wage Data into multiplicative factors via log10 transormation\n",
    "import numpy as np\n",
    "data['WAGE'] = np.log10(data['WAGE'])"
   ]
  },
  {
   "cell_type": "code",
   "execution_count": null,
   "id": "739be58c-d020-4bfe-992b-280126bc07dd",
   "metadata": {
    "tags": []
   },
   "outputs": [],
   "source": [
    "data"
   ]
  },
  {
   "cell_type": "code",
   "execution_count": null,
   "id": "9e079381-47f6-4dcb-bbb8-775517a8d653",
   "metadata": {
    "tags": []
   },
   "outputs": [],
   "source": [
    "# Plotting scatter matrices for the different data sets in the set\n",
    "import seaborn\n",
    "seaborn.pairplot(data, vars=['WAGE', 'AGE', 'EDUCATION'], \n",
    "                 kind='reg')\n",
    "\n",
    "seaborn.pairplot(data, vars=['WAGE', 'AGE', 'EDUCATION'],\n",
    "                 kind='reg', hue='SEX')\n",
    "\n",
    "plt.suptitle('Effect of Sex: 1=Female, 0=Male')\n",
    "\n",
    "seaborn.pairplot(data, vars=['WAGE', 'AGE', 'EDUCATION'],\n",
    "                 kind='reg', hue='RACE')\n",
    "\n",
    "plt.suptitle('Effect of race: 1=Other, 2=Hispanic, 3=White')\n",
    "\n",
    "seaborn.pairplot(data, vars=['WAGE', 'AGE', 'EDUCATION'],\n",
    "                 kind='reg', hue='UNION')\n",
    "\n",
    "plt.suptitle('Effect of Union Membership: 1=Union Member, 0=Non Union Member')"
   ]
  },
  {
   "cell_type": "markdown",
   "id": "cd82fe46-d3d4-4580-8d01-68d821c1792e",
   "metadata": {},
   "source": [
    "## Linear Regression Modeling using seaborn"
   ]
  },
  {
   "cell_type": "code",
   "execution_count": null,
   "id": "eaf2ab28-72c1-43aa-a07a-680613075017",
   "metadata": {
    "tags": []
   },
   "outputs": [],
   "source": [
    "seaborn.lmplot(y='WAGE', x='EDUCATION', data=data)\n",
    "plt.suptitle('Relationship of Wage and Education (in Years)')"
   ]
  },
  {
   "cell_type": "code",
   "execution_count": null,
   "id": "a06412de-a67b-4ff3-8ccf-5fc988092d1e",
   "metadata": {
    "tags": []
   },
   "outputs": [],
   "source": [
    "import statsmodels"
   ]
  },
  {
   "cell_type": "code",
   "execution_count": null,
   "id": "83a588a4-4407-4358-bf4a-f80806a5d9ac",
   "metadata": {
    "tags": []
   },
   "outputs": [],
   "source": [
    "from statsmodels.formula.api import ols"
   ]
  },
  {
   "cell_type": "code",
   "execution_count": null,
   "id": "5da4cc57-cccf-4c89-bfec-8d0c314787fa",
   "metadata": {
    "tags": []
   },
   "outputs": [],
   "source": [
    "result = statsmodels.ols(formula='wage ~ education + gender + education * gender',\n",
    "                data=data).fit()\n",
    "print(result.summary())"
   ]
  },
  {
   "cell_type": "code",
   "execution_count": null,
   "id": "342c4efe-4796-43f4-b9bc-c4e1d80d388a",
   "metadata": {},
   "outputs": [],
   "source": []
  }
 ],
 "metadata": {
  "kernelspec": {
   "display_name": "Python 3 (ipykernel)",
   "language": "python",
   "name": "python3"
  },
  "language_info": {
   "codemirror_mode": {
    "name": "ipython",
    "version": 3
   },
   "file_extension": ".py",
   "mimetype": "text/x-python",
   "name": "python",
   "nbconvert_exporter": "python",
   "pygments_lexer": "ipython3",
   "version": "3.9.16"
  }
 },
 "nbformat": 4,
 "nbformat_minor": 5
}
